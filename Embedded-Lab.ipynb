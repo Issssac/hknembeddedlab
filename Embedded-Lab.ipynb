{
 "cells": [
  {
   "cell_type": "markdown",
   "metadata": {},
   "source": [
    "# Embedded Systems Lab\n",
    "Sp25: Created by Andy Seymour"
   ]
  },
  {
   "cell_type": "markdown",
   "metadata": {},
   "source": [
    "## Intro \n",
    "In this lab you will be tasked with designing, at a high level, firmware for a simple temperature collection task. The following steps of the lab will take you through the typical development process of real embedded firmware.\n",
    "\n",
    "Imagine you have been contracted by an aerospace company who is developing the sensor feedback systems for a plane. To reduce signal complexity, they decided to have one dedicated microcontroller collect temperatures along the entire fuselage in the wings. Based on these readings it will send a single analog signal if it heats up beyond 30C. They have provide the datasheet for the temperature sensors they're using, the XHC5140E"
   ]
  },
  {
   "cell_type": "markdown",
   "metadata": {},
   "source": [
    "## Hardware\n",
    "An essential first step in developing firmwave is to understand the physical arrangement of the components you'll be controlling. Along the fuselage there are 4 independent temperature sensors, off the shelf XHC5140Es, all wired into a multiplexer (MUX), a device that takes in multiple wires and routes it to one. You choose the input channel that will be read out via selection pins by signaling the channel number in binary. For this lab, your micro controller will have 3 relevant GPIO that it must manage: the temperature in and the MUX select bits. \n",
    "\n",
    "In the function below you will implement this selection process. You will take in a channel parameter and correctly set your GPIO pins such that your MUX will route the value on that channel. To access the pins on your MCU use the Hardware Abstraction Library (HAL) functions provided, use the names selA and selB as your pin names"
   ]
  },
  {
   "cell_type": "code",
   "execution_count": 28,
   "metadata": {},
   "outputs": [],
   "source": [
    "##### RUN THIS FIRST #####\n",
    "class PIN:\n",
    "    connected = False\n",
    "    voltage = 0\n",
    "temp1 = PIN()\n",
    "temp1.voltage = 2.18870\n",
    "temp2 = PIN()\n",
    "temp2.voltage = 2.34600\n",
    "temp3 = PIN()\n",
    "temp3.voltage = 2.63492\n",
    "temp4 = PIN()\n",
    "temp4.voltage = 4.21563\n",
    "errorCircuit=PIN()\n",
    "errorCircuit.voltage=3.3\n",
    "selA = PIN()\n",
    "selA.connected=True\n",
    "selB = PIN()\n",
    "selB.connected=True\n",
    "tempIn = PIN()\n",
    "\n",
    "class MUX:\n",
    "    channels = [temp1,temp2,temp3,temp4]\n",
    "    output = tempIn\n",
    "    def __init__(self):\n",
    "        channels = [temp1,temp2,temp3,temp4]\n",
    "        output = tempIn\n",
    "    def update(self):\n",
    "        c = 0\n",
    "        if(selA.voltage>2):\n",
    "            c+=1\n",
    "        if(selB.voltage>2):\n",
    "            c+=2\n",
    "        self.output.voltage = self.channels[c].voltage\n",
    "\n",
    "def HAL_PIN_SET(pin):\n",
    "    if(pin.connected):\n",
    "        pin.voltage = 3.3\n",
    "def HAL_PIN_RESET(pin):\n",
    "    if(pin.connected):\n",
    "        pin.voltage = 0\n",
    "muxInst = MUX()"
   ]
  },
  {
   "cell_type": "code",
   "execution_count": 27,
   "metadata": {},
   "outputs": [
    {
     "name": "stdout",
     "output_type": "stream",
     "text": [
      "Voltage Channel 0: 2.1887\n",
      "Voltage Channel 1: 2.1887\n",
      "Voltage Channel 2: 2.1887\n",
      "Voltage Channel 3: 2.1887\n"
     ]
    }
   ],
   "source": [
    "def selectChannel(ch):\n",
    "    ## YOUR CODE HERE\n",
    "\n",
    "    ## YOUR CODE ABOVE\n",
    "    muxInst.update()\n",
    "\n",
    "selectChannel(0)\n",
    "print(\"Voltage Channel 0:\", muxInst.output.voltage)\n",
    "selectChannel(1)\n",
    "print(\"Voltage Channel 1:\", muxInst.output.voltage)\n",
    "selectChannel(2)\n",
    "print(\"Voltage Channel 2:\", muxInst.output.voltage)\n",
    "selectChannel(3)\n",
    "print(\"Voltage Channel 3:\", muxInst.output.voltage)"
   ]
  },
  {
   "cell_type": "markdown",
   "metadata": {},
   "source": [
    "## Analog to Digital Converter (ADC) and Multiplexer\n",
    "Now that you are able to manipulate the multiplexer, cycle through the channels 0 through 3 and store the voltages of the temperature sensor. The MUX is wired to the \"tempIn\" pin. You can use the HAL function for the Analog to Digital Converter to read the numerical value of the voltage. The ADC is a peripheral, meaning it has its own hardware converter, external to the CPU that writes the value to a reserved portion of the MCU memory. The HAL knows this location and retrieves it for you, returning it when you call the function. How and where you store this value is up to you."
   ]
  },
  {
   "cell_type": "code",
   "execution_count": 25,
   "metadata": {},
   "outputs": [],
   "source": [
    "def HAL_ADC1_START(pin):\n",
    "    return pin.voltage\n",
    "\n",
    "def cycleAndStore():\n",
    "    ## YOUR CODE HERE\n",
    "    return\n",
    "    ## YOUR CODE ABOVE"
   ]
  },
  {
   "cell_type": "markdown",
   "metadata": {},
   "source": [
    "## Voltage Conversion\n",
    "\n",
    "The voltages alone are not meaningful to our thresholds, which are in celcius. The XHC5140E has a specific conversion factor, determine this and implement a function that will store these converted temperatures. [Hint the datasheet is important]"
   ]
  },
  {
   "cell_type": "code",
   "execution_count": null,
   "metadata": {},
   "outputs": [],
   "source": [
    "def storeTemperatures():\n",
    "    ## YOUR CODE HERE\n",
    "    "
   ]
  },
  {
   "cell_type": "markdown",
   "metadata": {},
   "source": [
    "## Event Trigger\n",
    "Bringing it all together, you will read through the temperatures you just stored, and if you detect that any of them are above 30C, raise an error by setting the errorCircuit pin with the HAL. With that, you will have successfully implemented this embedded device. The only thing left is scheduling this process either via a \"superloop\" which is an infinite while loop that the main entry point of the code eventually leads to, or a Real Time Operating System handling the timing for you with virtual threads. This is out of scope for the lab, feel free to look further into to RTOS if you're interested"
   ]
  },
  {
   "cell_type": "code",
   "execution_count": 29,
   "metadata": {},
   "outputs": [
    {
     "ename": "SyntaxError",
     "evalue": "incomplete input (665044303.py, line 2)",
     "output_type": "error",
     "traceback": [
      "\u001b[0;36m  Cell \u001b[0;32mIn[29], line 2\u001b[0;36m\u001b[0m\n\u001b[0;31m    ## YOUR CODE HERE\u001b[0m\n\u001b[0m                     ^\u001b[0m\n\u001b[0;31mSyntaxError\u001b[0m\u001b[0;31m:\u001b[0m incomplete input\n"
     ]
    }
   ],
   "source": [
    "def validate_temps():\n",
    "    ## YOUR CODE HERE"
   ]
  }
 ],
 "metadata": {
  "kernelspec": {
   "display_name": "Python 3 (ipykernel)",
   "language": "python",
   "name": "python3"
  },
  "language_info": {
   "codemirror_mode": {
    "name": "ipython",
    "version": 3
   },
   "file_extension": ".py",
   "mimetype": "text/x-python",
   "name": "python",
   "nbconvert_exporter": "python",
   "pygments_lexer": "ipython3",
   "version": "3.11.11"
  }
 },
 "nbformat": 4,
 "nbformat_minor": 4
}
